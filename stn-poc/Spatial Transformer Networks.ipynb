{
 "cells": [
  {
   "cell_type": "code",
   "execution_count": 1,
   "metadata": {
    "id": "PF5DOEQYZgLj"
   },
   "outputs": [],
   "source": [
    "# For tips on running notebooks in Google Colab, see\n",
    "# https://pytorch.org/tutorials/beginner/colab\n",
    "%matplotlib inline"
   ]
  },
  {
   "attachments": {},
   "cell_type": "markdown",
   "metadata": {
    "id": "-s_egYL6ZgLl"
   },
   "source": [
    "# Spatial Transformer Networks"
   ]
  },
  {
   "cell_type": "code",
   "execution_count": 2,
   "metadata": {
    "colab": {
     "base_uri": "https://localhost:8080/"
    },
    "id": "Yn6GZu_pZgLp",
    "outputId": "59dcbcef-24a1-4914-bcdc-5305cc093a9b"
   },
   "outputs": [
    {
     "data": {
      "text/plain": [
       "<contextlib.ExitStack at 0x7fbc9031fc10>"
      ]
     },
     "execution_count": 2,
     "metadata": {},
     "output_type": "execute_result"
    }
   ],
   "source": [
    "from __future__ import print_function\n",
    "import torch\n",
    "import torch.nn as nn\n",
    "import torch.nn.functional as F\n",
    "import torch.optim as optim\n",
    "import torchvision\n",
    "from torchvision import datasets, transforms\n",
    "import matplotlib.pyplot as plt\n",
    "import numpy as np\n",
    "\n",
    "plt.ion()   # interactive mode"
   ]
  },
  {
   "attachments": {},
   "cell_type": "markdown",
   "metadata": {
    "id": "ovC3E9MoZgLq"
   },
   "source": [
    "## Loading the Data"
   ]
  },
  {
   "cell_type": "code",
   "execution_count": 3,
   "metadata": {
    "colab": {
     "base_uri": "https://localhost:8080/"
    },
    "id": "eqCTarGxZgLr",
    "outputId": "647587ef-43d4-41bc-d5af-4142ccd9293d"
   },
   "outputs": [],
   "source": [
    "import torch\n",
    "from torchvision import transforms, datasets\n",
    "\n",
    "device = torch.device(\"cuda\" if torch.cuda.is_available() else \"cpu\")\n",
    "\n",
    "transform=transforms.Compose([\n",
    "    #transforms.Grayscale(),\n",
    "    transforms.Resize((28, 28)),\n",
    "    transforms.ToTensor(),\n",
    "    #transforms.Normalize((0.4914, 0.4822, 0.4465),\n",
    "    #                     (0.2023, 0.1994, 0.2010)),\n",
    "    ])\n",
    "\n",
    "training_data = datasets.ImageFolder(root='./data/training', transform=transform)\n",
    "test_data = datasets.ImageFolder(root='./data/test', transform=transform)\n",
    "\n",
    "from torch.utils.data import DataLoader\n",
    "\n",
    "# Create data loaders\n",
    "mini_batch_size = 64\n",
    "\n",
    "train_dataloader = DataLoader(training_data, batch_size=65, shuffle=True, num_workers=1)\n",
    "test_dataloader = DataLoader(test_data, batch_size=34, shuffle=True, num_workers=1)"
   ]
  },
  {
   "attachments": {},
   "cell_type": "markdown",
   "metadata": {
    "id": "0MOyqte0ZgLt"
   },
   "source": [
    "## Depicting Spatial Transformer Networks"
   ]
  },
  {
   "cell_type": "code",
   "execution_count": 4,
   "metadata": {
    "id": "GKo_zyh7ZgLu"
   },
   "outputs": [],
   "source": [
    "class Net(nn.Module):\n",
    "    def __init__(self):\n",
    "        super(Net, self).__init__()\n",
    "        self.conv1 = nn.Conv2d(3, 10, kernel_size=5)\n",
    "        self.conv2 = nn.Conv2d(10, 20, kernel_size=5)\n",
    "        self.conv2_drop = nn.Dropout2d()\n",
    "        self.fc1 = nn.Linear(320, 50)\n",
    "        self.fc2 = nn.Linear(50, 4)\n",
    "\n",
    "        # Spatial transformer localization-network\n",
    "        self.localization = nn.Sequential(\n",
    "            nn.Conv2d(3, 8, kernel_size=7),\n",
    "            nn.MaxPool2d(2, stride=2),\n",
    "            nn.ReLU(True),\n",
    "            nn.Conv2d(8, 10, kernel_size=5),\n",
    "            nn.MaxPool2d(2, stride=2),\n",
    "            nn.ReLU(True)\n",
    "        )\n",
    "\n",
    "        # Regressor for the 3 * 2 affine matrix\n",
    "        self.fc_loc = nn.Sequential(\n",
    "            nn.Linear(10 * 3 * 3, 32),\n",
    "            nn.ReLU(True),\n",
    "            nn.Linear(32, 3 * 2)\n",
    "        )\n",
    "\n",
    "        # Initialize the weights/bias with identity transformation\n",
    "        self.fc_loc[2].weight.data.zero_()\n",
    "        self.fc_loc[2].bias.data.copy_(torch.tensor([1, 0, 0, 0, 1, 0], dtype=torch.float))\n",
    "\n",
    "    # Spatial transformer network forward function\n",
    "    def stn(self, x):\n",
    "        xs = self.localization(x)\n",
    "        xs = xs.view(-1, 10 * 3 * 3)\n",
    "        theta = self.fc_loc(xs)\n",
    "        theta = theta.view(-1, 2, 3)\n",
    "\n",
    "        grid = F.affine_grid(theta, x.size())\n",
    "        x = F.grid_sample(x, grid)\n",
    "\n",
    "        return x\n",
    "\n",
    "    def forward(self, x):\n",
    "        # transform the input\n",
    "        x = self.stn(x)\n",
    "\n",
    "        # Perform the usual forward pass\n",
    "        x = F.relu(F.max_pool2d(self.conv1(x), 2))\n",
    "        x = F.relu(F.max_pool2d(self.conv2_drop(self.conv2(x)), 2))\n",
    "        x = x.view(-1, 320)\n",
    "        x = F.relu(self.fc1(x))\n",
    "        x = F.dropout(x, training=self.training)\n",
    "        x = self.fc2(x)\n",
    "\n",
    "        return F.log_softmax(x, dim=1)\n",
    "\n",
    "\n",
    "model = Net().to(device)"
   ]
  },
  {
   "attachments": {},
   "cell_type": "markdown",
   "metadata": {
    "id": "CsExnXfmZgLu"
   },
   "source": [
    "## Training the Model"
   ]
  },
  {
   "cell_type": "code",
   "execution_count": 5,
   "metadata": {
    "id": "fJNj1rdDZgLw"
   },
   "outputs": [],
   "source": [
    "learning_rate = 0.001\n",
    "\n",
    "#optimizer = optim.Adam(model.parameters(), lr=learning_rate)\n",
    "optimizer = optim.SGD(model.parameters(), lr=learning_rate)\n",
    "\n",
    "train_loss_history = []\n",
    "train_acc_history = []\n",
    "\n",
    "def train(epoch):\n",
    "    model.train()\n",
    "    for batch_idx, (data, target) in enumerate(train_dataloader):\n",
    "        data, target = data.to(device), target.to(device)\n",
    "\n",
    "        optimizer.zero_grad()\n",
    "        output = model(data)\n",
    "        loss = F.nll_loss(output, target)\n",
    "        loss.backward()\n",
    "        optimizer.step()\n",
    "        \n",
    "        train_loss_history.append(loss.item())\n",
    "        \n",
    "        if batch_idx % 3 == 0:\n",
    "            print('Train Epoch: {} [{}/{} ({:.0f}%)]\\tLoss: {:.6f}'.format(\n",
    "                epoch, batch_idx * len(data), len(train_dataloader.dataset),\n",
    "                100. * batch_idx / len(train_dataloader), loss.item()))\n",
    "\n",
    "\n",
    "test_loss_history = []\n",
    "test_acc_history = []\n",
    "\n",
    "def test():\n",
    "    with torch.no_grad():\n",
    "        model.eval()\n",
    "        test_loss = 0\n",
    "        correct = 0\n",
    "        for data, target in test_dataloader:\n",
    "            data, target = data.to(device), target.to(device)\n",
    "            output = model(data)\n",
    "\n",
    "            # sum up batch loss\n",
    "            test_loss += F.nll_loss(output, target, size_average=False).item()\n",
    "            # get the index of the max log-probability\n",
    "            pred = output.max(1, keepdim=True)[1]\n",
    "            correct += pred.eq(target.view_as(pred)).sum().item()\n",
    "\n",
    "        test_loss /= len(test_dataloader.dataset)\n",
    "        \n",
    "        test_loss_history.append(test_loss)\n",
    "        test_acc_history.append(100. * correct / len(test_dataloader.dataset))\n",
    "        \n",
    "        print('\\nTest set: Average loss: {:.4f}, Accuracy: {}/{} ({:.0f}%)\\n'\n",
    "              .format(test_loss, correct, len(test_dataloader.dataset),\n",
    "                      100. * correct / len(test_dataloader.dataset)))"
   ]
  },
  {
   "attachments": {},
   "cell_type": "markdown",
   "metadata": {
    "id": "d62Ek95xZgLx"
   },
   "source": [
    "## Visualizing the STN Results"
   ]
  },
  {
   "cell_type": "code",
   "execution_count": 6,
   "metadata": {
    "colab": {
     "base_uri": "https://localhost:8080/",
     "height": 582
    },
    "id": "zTSnH5EwZgLy",
    "outputId": "60c9ce3d-b939-4d4f-f75d-50a518d9be52"
   },
   "outputs": [
    {
     "name": "stderr",
     "output_type": "stream",
     "text": [
      "/usr/local/anaconda3/lib/python3.10/site-packages/torch/nn/functional.py:4298: UserWarning: Default grid_sample and affine_grid behavior has changed to align_corners=False since 1.3.0. Please specify align_corners=True if the old behavior is desired. See the documentation of grid_sample for details.\n",
      "  warnings.warn(\n",
      "/usr/local/anaconda3/lib/python3.10/site-packages/torch/nn/functional.py:4236: UserWarning: Default grid_sample and affine_grid behavior has changed to align_corners=False since 1.3.0. Please specify align_corners=True if the old behavior is desired. See the documentation of grid_sample for details.\n",
      "  warnings.warn(\n"
     ]
    },
    {
     "name": "stdout",
     "output_type": "stream",
     "text": [
      "Train Epoch: 1 [0/650 (0%)]\tLoss: 1.332206\n"
     ]
    },
    {
     "name": "stderr",
     "output_type": "stream",
     "text": [
      "/usr/local/anaconda3/lib/python3.10/site-packages/torch/nn/_reduction.py:42: UserWarning: size_average and reduce args will be deprecated, please use reduction='sum' instead.\n",
      "  warnings.warn(warning.format(ret))\n"
     ]
    },
    {
     "name": "stdout",
     "output_type": "stream",
     "text": [
      "\n",
      "Test set: Average loss: 1.3490, Accuracy: 57/170 (34%)\n",
      "\n",
      "Train Epoch: 2 [0/650 (0%)]\tLoss: 1.347222\n",
      "\n",
      "Test set: Average loss: 1.3389, Accuracy: 57/170 (34%)\n",
      "\n",
      "Train Epoch: 3 [0/650 (0%)]\tLoss: 1.329089\n",
      "\n",
      "Test set: Average loss: 1.3286, Accuracy: 57/170 (34%)\n",
      "\n",
      "Train Epoch: 4 [0/650 (0%)]\tLoss: 1.327410\n",
      "\n",
      "Test set: Average loss: 1.3181, Accuracy: 57/170 (34%)\n",
      "\n",
      "Train Epoch: 5 [0/650 (0%)]\tLoss: 1.314538\n",
      "\n",
      "Test set: Average loss: 1.3074, Accuracy: 57/170 (34%)\n",
      "\n",
      "Train Epoch: 6 [0/650 (0%)]\tLoss: 1.301950\n",
      "\n",
      "Test set: Average loss: 1.2969, Accuracy: 57/170 (34%)\n",
      "\n",
      "Train Epoch: 7 [0/650 (0%)]\tLoss: 1.278665\n",
      "\n",
      "Test set: Average loss: 1.2856, Accuracy: 57/170 (34%)\n",
      "\n",
      "Train Epoch: 8 [0/650 (0%)]\tLoss: 1.279219\n",
      "\n",
      "Test set: Average loss: 1.2737, Accuracy: 57/170 (34%)\n",
      "\n",
      "Train Epoch: 9 [0/650 (0%)]\tLoss: 1.262155\n",
      "\n",
      "Test set: Average loss: 1.2606, Accuracy: 57/170 (34%)\n",
      "\n",
      "Train Epoch: 10 [0/650 (0%)]\tLoss: 1.259995\n",
      "\n",
      "Test set: Average loss: 1.2463, Accuracy: 57/170 (34%)\n",
      "\n",
      "Train Epoch: 11 [0/650 (0%)]\tLoss: 1.223590\n",
      "\n",
      "Test set: Average loss: 1.2311, Accuracy: 58/170 (34%)\n",
      "\n",
      "Train Epoch: 12 [0/650 (0%)]\tLoss: 1.231338\n",
      "\n",
      "Test set: Average loss: 1.2150, Accuracy: 100/170 (59%)\n",
      "\n",
      "Train Epoch: 13 [0/650 (0%)]\tLoss: 1.206811\n",
      "\n",
      "Test set: Average loss: 1.1967, Accuracy: 113/170 (66%)\n",
      "\n",
      "Train Epoch: 14 [0/650 (0%)]\tLoss: 1.180409\n",
      "\n",
      "Test set: Average loss: 1.1770, Accuracy: 113/170 (66%)\n",
      "\n",
      "Train Epoch: 15 [0/650 (0%)]\tLoss: 1.149009\n",
      "\n",
      "Test set: Average loss: 1.1550, Accuracy: 113/170 (66%)\n",
      "\n",
      "Train Epoch: 16 [0/650 (0%)]\tLoss: 1.187773\n",
      "\n",
      "Test set: Average loss: 1.1326, Accuracy: 113/170 (66%)\n",
      "\n",
      "Train Epoch: 17 [0/650 (0%)]\tLoss: 1.157301\n",
      "\n",
      "Test set: Average loss: 1.1073, Accuracy: 113/170 (66%)\n",
      "\n",
      "Train Epoch: 18 [0/650 (0%)]\tLoss: 1.086485\n",
      "\n",
      "Test set: Average loss: 1.0800, Accuracy: 113/170 (66%)\n",
      "\n",
      "Train Epoch: 19 [0/650 (0%)]\tLoss: 1.116801\n",
      "\n",
      "Test set: Average loss: 1.0523, Accuracy: 113/170 (66%)\n",
      "\n",
      "Train Epoch: 20 [0/650 (0%)]\tLoss: 1.085617\n",
      "\n",
      "Test set: Average loss: 1.0231, Accuracy: 113/170 (66%)\n",
      "\n"
     ]
    },
    {
     "data": {
      "image/png": "[encoded data removed]",
      "text/plain": [
       "<Figure size 640x480 with 2 Axes>"
      ]
     },
     "metadata": {},
     "output_type": "display_data"
    }
   ],
   "source": [
    "def convert_image_np(inp):\n",
    "    \"\"\"Convert a Tensor to numpy image.\"\"\"\n",
    "    inp = inp.numpy().transpose((1, 2, 0))\n",
    "    mean = np.array([0.485, 0.456, 0.406])\n",
    "    std = np.array([0.229, 0.224, 0.225])\n",
    "    inp = std * inp + mean\n",
    "    inp = np.clip(inp, 0, 1)\n",
    "    return inp\n",
    "\n",
    "\n",
    "# We want to visualize the output of the spatial transformers layer\n",
    "# after the training, we visualize a batch of input images and\n",
    "# the corresponding transformed batch using STN.\n",
    "\n",
    "\n",
    "def visualize_stn():\n",
    "    with torch.no_grad():\n",
    "        # Get a batch of training data\n",
    "        data = next(iter(test_dataloader))[0].to(device)\n",
    "\n",
    "        input_tensor = data.cpu()\n",
    "        transformed_input_tensor = model.stn(data).cpu()\n",
    "\n",
    "        in_grid = convert_image_np(\n",
    "            torchvision.utils.make_grid(input_tensor))\n",
    "\n",
    "        out_grid = convert_image_np(\n",
    "            torchvision.utils.make_grid(transformed_input_tensor))\n",
    "\n",
    "        # Plot the results side-by-side\n",
    "        f, axarr = plt.subplots(1, 2)\n",
    "        axarr[0].imshow(in_grid)\n",
    "        axarr[0].set_title('Dataset Images')\n",
    "\n",
    "        axarr[1].imshow(out_grid)\n",
    "        axarr[1].set_title('Transformed Images')\n",
    "\n",
    "for epoch in range(1, 20 + 1):\n",
    "    train(epoch)\n",
    "    test()\n",
    "\n",
    "# Visualize the STN transformation on some input batch\n",
    "visualize_stn()\n",
    "\n",
    "plt.ioff()\n",
    "plt.show()"
   ]
  },
  {
   "attachments": {},
   "cell_type": "markdown",
   "metadata": {},
   "source": [
    "## Plots"
   ]
  },
  {
   "cell_type": "code",
   "execution_count": null,
   "metadata": {},
   "outputs": [],
   "source": [
    "plt.plot(train_loss_history, label='Train')\n",
    "plt.plot(test_loss_history, label='Validation')\n",
    "plt.title('Training and Validation Loss')\n",
    "plt.xlabel('Epoch')\n",
    "plt.ylabel('Loss')\n",
    "plt.legend()\n",
    "plt.show()\n",
    "\n",
    "plt.plot(test_acc_history, label='Validation')\n",
    "plt.title('Validation Accuracy')\n",
    "plt.xlabel('Epoch')\n",
    "plt.ylabel('Accuracy')\n",
    "plt.legend()\n",
    "plt.show()"
   ]
  }
 ],
 "metadata": {
  "colab": {
   "provenance": []
  },
  "kernelspec": {
   "display_name": "Python 3 (ipykernel)",
   "language": "python",
   "name": "python3"
  },
  "language_info": {
   "codemirror_mode": {
    "name": "ipython",
    "version": 3
   },
   "file_extension": ".py",
   "mimetype": "text/x-python",
   "name": "python",
   "nbconvert_exporter": "python",
   "pygments_lexer": "ipython3",
   "version": "3.10.9"
  }
 },
 "nbformat": 4,
 "nbformat_minor": 1
}
